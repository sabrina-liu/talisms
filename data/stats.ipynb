{
 "cells": [
  {
   "cell_type": "code",
   "execution_count": 14,
   "id": "50200d05",
   "metadata": {},
   "outputs": [],
   "source": [
    "import pandas as pd\n",
    "import re\n",
    "\n",
    "# Load WhatsApp export files\n",
    "with open(\"chat1.txt\", encoding=\"utf-8\") as f1, open(\"chat2.txt\", encoding=\"utf-8\") as f2:\n",
    "    raw = f1.read() + \"\\n\" + f2.read()\n",
    "\n",
    "# Extract messages using regex\n",
    "pattern = r'\\[(\\d{2}/\\d{2}/\\d{4}), (\\d{2}:\\d{2}:\\d{2})\\] (.*?): (.+)'\n",
    "matches = re.findall(pattern, raw)\n",
    "df = pd.DataFrame(matches, columns=['date', 'time', 'sender', 'message'])\n",
    "\n",
    "# Convert to datetime\n",
    "df['timestamp'] = pd.to_datetime(df['date'] + ' ' + df['time'], format='%d/%m/%Y %H:%M:%S')\n",
    "df.drop(['date', 'time'], axis=1, inplace=True)\n"
   ]
  },
  {
   "cell_type": "code",
   "execution_count": 15,
   "id": "94c7c8f9",
   "metadata": {},
   "outputs": [],
   "source": [
    "import pandas as pd\n",
    "import re\n",
    "\n",
    "# Load WhatsApp export files\n",
    "with open(\"chat1.txt\", encoding=\"utf-8\") as f1, open(\"chat2.txt\", encoding=\"utf-8\") as f2:\n",
    "    raw = f1.read() + \"\\n\" + f2.read()\n",
    "\n",
    "# Extract messages using regex\n",
    "pattern = r'\\[(\\d{2}/\\d{2}/\\d{4}), (\\d{2}:\\d{2}:\\d{2})\\] (.*?): (.+)'\n",
    "matches = re.findall(pattern, raw)\n",
    "df = pd.DataFrame(matches, columns=['date', 'time', 'sender', 'message'])\n",
    "\n",
    "# Convert to datetime\n",
    "df['timestamp'] = pd.to_datetime(df['date'] + ' ' + df['time'], format='%d/%m/%Y %H:%M:%S')\n",
    "df.drop(['date', 'time'], axis=1, inplace=True)\n"
   ]
  },
  {
   "cell_type": "code",
   "execution_count": 16,
   "id": "2e3add94",
   "metadata": {},
   "outputs": [],
   "source": [
    "import emoji\n",
    "import string\n",
    "from textblob import TextBlob\n",
    "\n",
    "df['weekday'] = df['timestamp'].dt.day_name()\n",
    "df['hour'] = df['timestamp'].dt.hour\n",
    "df['length'] = df['message'].apply(len)\n",
    "df['sentiment'] = df['message'].apply(lambda x: TextBlob(x).sentiment.polarity)\n",
    "df['emojis'] = df['message'].apply(lambda text: ''.join(c for c in text if c in emoji.EMOJI_DATA))\n",
    "df['mentions_caleb'] = df['message'].str.contains(r'\\bcaleb\\b', case=False)\n"
   ]
  },
  {
   "cell_type": "code",
   "execution_count": 9,
   "id": "90b8ed79",
   "metadata": {},
   "outputs": [
    {
     "data": {
      "image/png": "[encoded data removed]",
      "text/plain": [
       "<Figure size 640x480 with 1 Axes>"
      ]
     },
     "metadata": {},
     "output_type": "display_data"
    }
   ],
   "source": [
    "data['sender'].value_counts().plot(kind='bar', color='salmon', title='Messages Sent by Each Person')\n",
    "plt.ylabel(\"Messages\")\n",
    "plt.show()\n"
   ]
  },
  {
   "cell_type": "code",
   "execution_count": 17,
   "id": "f1a63741",
   "metadata": {},
   "outputs": [
    {
     "name": "stdout",
     "output_type": "stream",
     "text": [
      "Total messages:\n",
      " sender\n",
      "Sabrina        6014\n",
      "~Talia✨        4270\n",
      "Talia Reddy    4036\n",
      "Name: count, dtype: int64\n",
      "\n",
      "First message: 2021-02-27 03:57:48\n",
      "Longest message gap (hours): 324 days 16:37:13\n",
      "\n",
      "Most active day:\n",
      " weekday\n",
      "Sunday       2727\n",
      "Monday       2288\n",
      "Friday       2054\n",
      "Wednesday    1948\n",
      "Tuesday      1904\n",
      "Thursday     1900\n",
      "Saturday     1499\n",
      "Name: count, dtype: int64\n",
      "\n",
      "Most active hour:\n",
      " hour\n",
      "0      119\n",
      "1       33\n",
      "2       13\n",
      "3        9\n",
      "4        1\n",
      "5       12\n",
      "6       73\n",
      "7      200\n",
      "8      455\n",
      "9      716\n",
      "10     647\n",
      "11     908\n",
      "12     879\n",
      "13     692\n",
      "14     872\n",
      "15     944\n",
      "16    1330\n",
      "17    1425\n",
      "18    1683\n",
      "19    1262\n",
      "20     988\n",
      "21     411\n",
      "22     335\n",
      "23     313\n",
      "Name: count, dtype: int64\n"
     ]
    }
   ],
   "source": [
    "print(\"Total messages:\\n\", df['sender'].value_counts())\n",
    "print(\"\\nFirst message:\", df['timestamp'].min())\n",
    "print(\"Longest message gap (hours):\", df['timestamp'].sort_values().diff().max())\n",
    "print(\"\\nMost active day:\\n\", df['weekday'].value_counts())\n",
    "print(\"\\nMost active hour:\\n\", df['hour'].value_counts().sort_index())\n"
   ]
  },
  {
   "cell_type": "code",
   "execution_count": 18,
   "id": "5b1c2344",
   "metadata": {},
   "outputs": [
    {
     "name": "stdout",
     "output_type": "stream",
     "text": [
      "\n",
      "Top Talia words:\n",
      " []\n",
      "\n",
      "Top Talia emojis:\n",
      " []\n",
      "\n",
      "Mentions of 'Caleb': 91\n"
     ]
    }
   ],
   "source": [
    "from collections import Counter\n",
    "\n",
    "talia_df = df[df['sender'] == 'talia']\n",
    "talia_words = ' '.join(talia_df['message']).lower().translate(str.maketrans('', '', string.punctuation)).split()\n",
    "word_counts = Counter(talia_words)\n",
    "\n",
    "print(\"\\nTop Talia words:\\n\", word_counts.most_common(15))\n",
    "print(\"\\nTop Talia emojis:\\n\", Counter(''.join(talia_df['emojis'])).most_common(10))\n",
    "print(\"\\nMentions of 'Caleb':\", df['mentions_caleb'].sum())\n"
   ]
  },
  {
   "cell_type": "code",
   "execution_count": 25,
   "id": "d82c53d0",
   "metadata": {},
   "outputs": [
    {
     "name": "stdout",
     "output_type": "stream",
     "text": [
      "\n",
      "Talia-isms:\n",
      " {}\n"
     ]
    }
   ],
   "source": [
    "taliaisms = {w: c for w, c in word_counts.items() if c >= 3 and w not in ['the', 'that', 'with', 'this', 'have', 'just', 'from', 'your', 'about', 'really']}\n",
    "\n",
    "print(\"\\nTalia-isms:\\n\", taliaisms)\n"
   ]
  },
  {
   "cell_type": "code",
   "execution_count": 26,
   "id": "f892a5f7",
   "metadata": {},
   "outputs": [
    {
     "name": "stdout",
     "output_type": "stream",
     "text": [
      "[]\n"
     ]
    }
   ],
   "source": [
    "print(Counter(talia_words).most_common(50))\n"
   ]
  },
  {
   "cell_type": "code",
   "execution_count": 20,
   "id": "82f6482a",
   "metadata": {},
   "outputs": [
    {
     "name": "stdout",
     "output_type": "stream",
     "text": [
      "\n",
      "Average message length over time:\n",
      " month\n",
      "2024-12    24.370904\n",
      "2025-01    21.416168\n",
      "2025-02    19.447887\n",
      "2025-03    21.566667\n",
      "2025-04    21.985149\n",
      "Freq: M, Name: length, dtype: float64\n",
      "\n",
      "Sentiment trend over time:\n",
      " month\n",
      "2024-12    0.058084\n",
      "2025-01    0.088950\n",
      "2025-02    0.054950\n",
      "2025-03    0.059738\n",
      "2025-04    0.080967\n",
      "Freq: M, Name: sentiment, dtype: float64\n"
     ]
    }
   ],
   "source": [
    "df['month'] = df['timestamp'].dt.to_period('M')\n",
    "avg_length = df.groupby('month')['length'].mean()\n",
    "avg_sentiment = df.groupby('month')['sentiment'].mean()\n",
    "\n",
    "print(\"\\nAverage message length over time:\\n\", avg_length.tail())\n",
    "print(\"\\nSentiment trend over time:\\n\", avg_sentiment.tail())\n"
   ]
  },
  {
   "cell_type": "code",
   "execution_count": 23,
   "id": "e535b01e",
   "metadata": {},
   "outputs": [
    {
     "data": {
      "image/png": "[encoded data removed]",
      "text/plain": [
       "<Figure size 800x600 with 1 Axes>"
      ]
     },
     "metadata": {},
     "output_type": "display_data"
    }
   ],
   "source": [
    "# Re-standardise sender names to merge variants\n",
    "df['sender'] = df['sender'].str.strip().str.lower()\n",
    "df['sender'] = df['sender'].apply(\n",
    "    lambda x: 'talia' if 'talia' in x else ('sabrina' if 'sabrina' in x else x)\n",
    ")\n",
    "\n",
    "# Total messages by sender\n",
    "msg_counts = df['sender'].value_counts()\n",
    "\n",
    "# Plot\n",
    "plt.figure(figsize=(8, 6))\n",
    "msg_counts.plot(kind='bar', color=['#ff9aa2', '#b5ead7'])  # Customize colors as you like\n",
    "plt.title(\"Total Messages by Sender\")\n",
    "plt.xlabel(\"Sender\")\n",
    "plt.ylabel(\"Number of Messages\")\n",
    "plt.xticks(rotation=0)\n",
    "plt.grid(axis='y', linestyle='--', alpha=0.7)\n",
    "plt.tight_layout()\n",
    "plt.show()\n"
   ]
  },
  {
   "cell_type": "code",
   "execution_count": null,
   "id": "03f2a545",
   "metadata": {},
   "outputs": [],
   "source": []
  }
 ],
 "metadata": {
  "kernelspec": {
   "display_name": "talisms",
   "language": "python",
   "name": "python3"
  },
  "language_info": {
   "codemirror_mode": {
    "name": "ipython",
    "version": 3
   },
   "file_extension": ".py",
   "mimetype": "text/x-python",
   "name": "python",
   "nbconvert_exporter": "python",
   "pygments_lexer": "ipython3",
   "version": "3.11.11"
  }
 },
 "nbformat": 4,
 "nbformat_minor": 5
}
